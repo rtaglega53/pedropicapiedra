{
  "nbformat": 4,
  "nbformat_minor": 0,
  "metadata": {
    "colab": {
      "name": "Untitled6.ipynb",
      "provenance": [],
      "authorship_tag": "ABX9TyMhDTc50dGRhV0f7TOLh5o+",
      "include_colab_link": true
    },
    "kernelspec": {
      "name": "python3",
      "display_name": "Python 3"
    }
  },
  "cells": [
    {
      "cell_type": "markdown",
      "metadata": {
        "id": "view-in-github",
        "colab_type": "text"
      },
      "source": [
        "<a href=\"https://colab.research.google.com/github/rtaglega53/pedropicapiedra/blob/master/Okcupid_poject.ipynb\" target=\"_parent\"><img src=\"https://colab.research.google.com/assets/colab-badge.svg\" alt=\"Open In Colab\"/></a>"
      ]
    },
    {
      "cell_type": "markdown",
      "metadata": {
        "id": "ZPYXdZ5-PxQh"
      },
      "source": [
        "### **Raul Antonio Tagle Garcia **\r\n",
        "\r\n",
        "Reconocimiento de Patrones \r\n",
        "\r\n",
        "Proyecto de recomendación de parejas utilzando BD de OKCUPID\r\n",
        "\r\n"
      ]
    },
    {
      "cell_type": "markdown",
      "metadata": {
        "id": "uEbcmTvNQirv"
      },
      "source": [
        "Primero importamos todas las librerias que estaremos utlizando en el proyecto"
      ]
    },
    {
      "cell_type": "code",
      "metadata": {
        "id": "pgWlJmQjQhkP"
      },
      "source": [
        "# librerias para manejo de datos y graficas\r\n",
        "import pandas as pd\r\n",
        "import numpy as np\r\n",
        "import matplotlib.pyplot as plt\r\n",
        "from sklearn.manifold import TSNE\r\n",
        "from google.colab import files\r\n",
        "import time\r\n",
        "import warnings\r\n",
        "# librerias para clustering\r\n",
        "from sklearn import cluster, datasets, mixture, metrics\r\n",
        "from sklearn.preprocessing import StandardScaler\r\n",
        "# librerias para busqueda de hiperparametros\r\n",
        "from sklearn import metrics, preprocessing, tree\r\n",
        "from sklearn.metrics import f1_score, make_scorer\r\n",
        "from sklearn.model_selection import cross_val_score\r\n",
        "from sklearn.model_selection import GridSearchCV, RandomizedSearchCV\r\n",
        "from sklearn.model_selection import train_test_split\r\n",
        "from sklearn.tree import DecisionTreeClassifier as dt\r\n",
        "from sklearn.model_selection import KFold\r\n",
        "# librerias para PCA\r\n",
        "from sklearn.model_selection import train_test_split\r\n",
        "from sklearn.pipeline import Pipeline\r\n",
        "from sklearn.preprocessing import StandardScaler\r\n",
        "from sklearn.decomposition import PCA\r\n",
        "from sklearn import svm, metrics\r\n",
        "warnings.filterwarnings(\"ignore\")"
      ],
      "execution_count": null,
      "outputs": []
    },
    {
      "cell_type": "markdown",
      "metadata": {
        "id": "qg-p4FPRQ6gx"
      },
      "source": [
        "\r\n",
        "Leemos los datos"
      ]
    },
    {
      "cell_type": "code",
      "metadata": {
        "id": "u-J4IfRUPwzw"
      },
      "source": [
        "uploaded = files.upload()\r\n",
        "df = pd.read_csv('loan_prediction.csv')\r\n",
        "df.head()"
      ],
      "execution_count": null,
      "outputs": []
    }
  ]
}