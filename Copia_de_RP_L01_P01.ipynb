{
  "nbformat": 4,
  "nbformat_minor": 0,
  "metadata": {
    "colab": {
      "name": "Copia de RP.L01.P01.ipynb",
      "provenance": [],
      "toc_visible": true,
      "include_colab_link": true
    },
    "kernelspec": {
      "name": "python3",
      "display_name": "Python 3"
    }
  },
  "cells": [
    {
      "cell_type": "markdown",
      "metadata": {
        "id": "view-in-github",
        "colab_type": "text"
      },
      "source": [
        "<a href=\"https://colab.research.google.com/github/rtaglega53/pedropicapiedra/blob/master/Copia_de_RP_L01_P01.ipynb\" target=\"_parent\"><img src=\"https://colab.research.google.com/assets/colab-badge.svg\" alt=\"Open In Colab\"/></a>"
      ]
    },
    {
      "cell_type": "markdown",
      "metadata": {
        "id": "TUAi1DAOE6qO",
        "colab_type": "text"
      },
      "source": [
        "# Reconocimiento de Patrones\n",
        "## Dr. Carlos Villaseñor\n",
        "### Lección 1 - Introducción al Reconocimiento de patrones"
      ]
    },
    {
      "cell_type": "markdown",
      "metadata": {
        "id": "0w2_z4nTFGdP",
        "colab_type": "text"
      },
      "source": [
        "Primeramente importemos algunos paquetes\n"
      ]
    },
    {
      "cell_type": "code",
      "metadata": {
        "id": "EXIpF0azE10O",
        "colab_type": "code",
        "colab": {}
      },
      "source": [
        "import numpy as np\n",
        "import pandas as pd\n",
        "import matplotlib.pyplot as plt"
      ],
      "execution_count": null,
      "outputs": []
    },
    {
      "cell_type": "markdown",
      "metadata": {
        "id": "zCPflr-BGvzz",
        "colab_type": "text"
      },
      "source": [
        "## Introducción a Pandas\n",
        "\n",
        "Pandas es una biblioteca para Python basada en Numpy y Matplotlib para la manipulacion y el análisisd e datos. Podemos decir que da herramientas propias del lenguaje R a Python 3.\n",
        "\n",
        "Tiene dos objetos principales las Series y los DataFrame, empezemos con las series"
      ]
    },
    {
      "cell_type": "code",
      "metadata": {
        "id": "FX2_09WPG6EI",
        "colab_type": "code",
        "colab": {
          "base_uri": "https://localhost:8080/",
          "height": 134
        },
        "outputId": "948ac149-b904-4291-d37f-7f39433430f0"
      },
      "source": [
        "s = pd.Series([3, -5, 7, 4], index=['a', 'b', 'c', 'd'])\n",
        "print(s)\n",
        "print('acceso a elemento: ', s['a'])\n"
      ],
      "execution_count": null,
      "outputs": [
        {
          "output_type": "stream",
          "text": [
            "a    3\n",
            "b   -5\n",
            "c    7\n",
            "d    4\n",
            "dtype: int64\n",
            "acceso a elemento:  3\n",
            "<module 'pandas' from '/usr/local/lib/python3.6/dist-packages/pandas/__init__.py'>\n"
          ],
          "name": "stdout"
        }
      ]
    },
    {
      "cell_type": "markdown",
      "metadata": {
        "id": "oOA_2KhgIi06",
        "colab_type": "text"
      },
      "source": [
        "El objeto DataFrame es el principal objeto de la biblioteca es un arreglo bidimensional de datos mezclados con\n",
        "encabezado (muy similar a los DataFrame del lenguaje de programación R), acontinuación un ejemplo:"
      ]
    },
    {
      "cell_type": "code",
      "metadata": {
        "id": "nO5yov7nIpHc",
        "colab_type": "code",
        "colab": {
          "base_uri": "https://localhost:8080/",
          "height": 101
        },
        "outputId": "16140939-4a51-4b0e-d8c0-0200979b1f54"
      },
      "source": [
        "data = { 'Nombre':['Carlos', 'Julia','Fabiola', 'Ernesto'],\n",
        "'edad':[28,25,56,21],\n",
        "'calificación':[100,89,48,75]}\n",
        "# Es muy común llamar df a nuestro DataFrame\n",
        "df = pd.DataFrame(data)\n",
        "print(df)"
      ],
      "execution_count": null,
      "outputs": [
        {
          "output_type": "stream",
          "text": [
            "    Nombre  edad  calificación\n",
            "0   Carlos    28           100\n",
            "1    Julia    25            89\n",
            "2  Fabiola    56            48\n",
            "3  Ernesto    21            75\n"
          ],
          "name": "stdout"
        }
      ]
    },
    {
      "cell_type": "markdown",
      "metadata": {
        "id": "ADWlpkt7I2I-",
        "colab_type": "text"
      },
      "source": [
        "Para ingresar a cada dato de nuestro DataFrame, lo podemos hacer de las siguientes maneras como si fuera\n",
        "una matriz"
      ]
    },
    {
      "cell_type": "code",
      "metadata": {
        "id": "2t61lWG_I3GN",
        "colab_type": "code",
        "colab": {
          "base_uri": "https://localhost:8080/",
          "height": 73
        },
        "outputId": "b594ed1b-786c-433c-f4ef-659b98c74f04"
      },
      "source": [
        "print(df.iat[0,0])\n",
        "print(df.iat[1,2])\n",
        "print(df.at[2,'Nombre'])"
      ],
      "execution_count": null,
      "outputs": [
        {
          "output_type": "stream",
          "text": [
            "Carlos\n",
            "89\n",
            "Fabiola\n"
          ],
          "name": "stdout"
        }
      ]
    },
    {
      "cell_type": "markdown",
      "metadata": {
        "id": "vMMv3EJUI7uN",
        "colab_type": "text"
      },
      "source": [
        "Podemos escribir en el DataFrame con la misma indexación"
      ]
    },
    {
      "cell_type": "code",
      "metadata": {
        "id": "GfHqP3bsI8s5",
        "colab_type": "code",
        "colab": {
          "base_uri": "https://localhost:8080/",
          "height": 242
        },
        "outputId": "964aa6d4-8375-4be5-872b-75b6ed55e683"
      },
      "source": [
        "s['b'] = 5\n",
        "print('s = \\n', s)\n",
        "df.at[0,'Nombre'] = 'Charlie'\n",
        "print('df = \\n', df)"
      ],
      "execution_count": null,
      "outputs": [
        {
          "output_type": "stream",
          "text": [
            "s = \n",
            " a    3\n",
            "b    5\n",
            "c    7\n",
            "d    4\n",
            "dtype: int64\n",
            "df = \n",
            "     Nombre  edad  calificación\n",
            "0  Charlie    28           100\n",
            "1    Julia    25            89\n",
            "2  Fabiola    56            48\n",
            "3  Ernesto    21            75\n"
          ],
          "name": "stdout"
        }
      ]
    },
    {
      "cell_type": "markdown",
      "metadata": {
        "id": "pJHaDL-gJr1o",
        "colab_type": "text"
      },
      "source": [
        "Tambien podemos eliminar filas de las Series y DataFrames"
      ]
    },
    {
      "cell_type": "code",
      "metadata": {
        "id": "CpWFgKu1Jsh8",
        "colab_type": "code",
        "colab": {
          "base_uri": "https://localhost:8080/",
          "height": 280
        },
        "outputId": "a7fa9e9b-1342-440a-aba0-e06263c23928"
      },
      "source": [
        "s.drop(['a'])\n",
        "print(s)\n",
        "df.drop('calificación', axis=1)\n",
        "print(df)\n",
        "df = df[df.Nombre != 'Charlie']\n",
        "print(df)"
      ],
      "execution_count": null,
      "outputs": [
        {
          "output_type": "stream",
          "text": [
            "a    3\n",
            "b    5\n",
            "c    7\n",
            "d    4\n",
            "dtype: int64\n",
            "    Nombre  edad  calificación\n",
            "0  Charlie    28           100\n",
            "1    Julia    25            89\n",
            "2  Fabiola    56            48\n",
            "3  Ernesto    21            75\n",
            "    Nombre  edad  calificación\n",
            "1    Julia    25            89\n",
            "2  Fabiola    56            48\n",
            "3  Ernesto    21            75\n"
          ],
          "name": "stdout"
        }
      ]
    },
    {
      "cell_type": "markdown",
      "metadata": {
        "id": "tPX-Al1uJzzj",
        "colab_type": "text"
      },
      "source": [
        "## Exploración de datos con Pandas"
      ]
    },
    {
      "cell_type": "markdown",
      "metadata": {
        "id": "TtO_7WZJqgQN",
        "colab_type": "text"
      },
      "source": [
        "# Nueva sección"
      ]
    },
    {
      "cell_type": "code",
      "metadata": {
        "id": "zJVPQ9bNJ3yW",
        "colab_type": "code",
        "colab": {
          "resources": {
            "http://localhost:8080/nbextensions/google.colab/files.js": {
              "data": "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",
              "ok": true,
              "headers": [
                [
                  "content-type",
                  "application/javascript"
                ]
              ],
              "status": 200,
              "status_text": ""
            }
          },
          "base_uri": "https://localhost:8080/",
          "height": 73
        },
        "outputId": "f2aece86-154c-4207-dccf-9b59f9988e3d"
      },
      "source": [
        "from google.colab import files\n",
        "uploaded = files.upload()"
      ],
      "execution_count": null,
      "outputs": [
        {
          "output_type": "display_data",
          "data": {
            "text/html": [
              "\n",
              "     <input type=\"file\" id=\"files-adbde271-c2db-4f05-aade-97daf0ef4329\" name=\"files[]\" multiple disabled\n",
              "        style=\"border:none\" />\n",
              "     <output id=\"result-adbde271-c2db-4f05-aade-97daf0ef4329\">\n",
              "      Upload widget is only available when the cell has been executed in the\n",
              "      current browser session. Please rerun this cell to enable.\n",
              "      </output>\n",
              "      <script src=\"/nbextensions/google.colab/files.js\"></script> "
            ],
            "text/plain": [
              "<IPython.core.display.HTML object>"
            ]
          },
          "metadata": {
            "tags": []
          }
        },
        {
          "output_type": "stream",
          "text": [
            "Saving DataSet1.csv to DataSet1.csv\n"
          ],
          "name": "stdout"
        }
      ]
    },
    {
      "cell_type": "markdown",
      "metadata": {
        "id": "reQXXo81Klib",
        "colab_type": "text"
      },
      "source": [
        "Podemos leer el csv de la siguiente manera"
      ]
    },
    {
      "cell_type": "code",
      "metadata": {
        "id": "CX8BxywGKbQU",
        "colab_type": "code",
        "colab": {}
      },
      "source": [
        "df = pd.read_csv('DataSet1.csv')"
      ],
      "execution_count": null,
      "outputs": []
    },
    {
      "cell_type": "markdown",
      "metadata": {
        "id": "ZslU2j-bKqNr",
        "colab_type": "text"
      },
      "source": [
        "Cuando se sabe poco de los datos que estamos leyendo es buena costumbre hacer una exploración de los\n",
        "datos por ejemplo con las siguientes funciones"
      ]
    },
    {
      "cell_type": "code",
      "metadata": {
        "id": "sGkNh-qKKtTr",
        "colab_type": "code",
        "colab": {
          "base_uri": "https://localhost:8080/",
          "height": 195
        },
        "outputId": "2a3c3eb7-600b-4801-dab7-030fe19e01ba"
      },
      "source": [
        "# Se imprimen los primeros cinco regristros\n",
        "df.head()"
      ],
      "execution_count": null,
      "outputs": [
        {
          "output_type": "execute_result",
          "data": {
            "text/html": [
              "<div>\n",
              "<style scoped>\n",
              "    .dataframe tbody tr th:only-of-type {\n",
              "        vertical-align: middle;\n",
              "    }\n",
              "\n",
              "    .dataframe tbody tr th {\n",
              "        vertical-align: top;\n",
              "    }\n",
              "\n",
              "    .dataframe thead th {\n",
              "        text-align: right;\n",
              "    }\n",
              "</style>\n",
              "<table border=\"1\" class=\"dataframe\">\n",
              "  <thead>\n",
              "    <tr style=\"text-align: right;\">\n",
              "      <th></th>\n",
              "      <th>x</th>\n",
              "      <th>y</th>\n",
              "    </tr>\n",
              "  </thead>\n",
              "  <tbody>\n",
              "    <tr>\n",
              "      <th>0</th>\n",
              "      <td>0.82202</td>\n",
              "      <td>0.167500</td>\n",
              "    </tr>\n",
              "    <tr>\n",
              "      <th>1</th>\n",
              "      <td>0.95587</td>\n",
              "      <td>0.009122</td>\n",
              "    </tr>\n",
              "    <tr>\n",
              "      <th>2</th>\n",
              "      <td>0.87913</td>\n",
              "      <td>0.159430</td>\n",
              "    </tr>\n",
              "    <tr>\n",
              "      <th>3</th>\n",
              "      <td>0.38489</td>\n",
              "      <td>0.558510</td>\n",
              "    </tr>\n",
              "    <tr>\n",
              "      <th>4</th>\n",
              "      <td>0.94356</td>\n",
              "      <td>0.040785</td>\n",
              "    </tr>\n",
              "  </tbody>\n",
              "</table>\n",
              "</div>"
            ],
            "text/plain": [
              "         x         y\n",
              "0  0.82202  0.167500\n",
              "1  0.95587  0.009122\n",
              "2  0.87913  0.159430\n",
              "3  0.38489  0.558510\n",
              "4  0.94356  0.040785"
            ]
          },
          "metadata": {
            "tags": []
          },
          "execution_count": 14
        }
      ]
    },
    {
      "cell_type": "code",
      "metadata": {
        "id": "eEaCAKQLKx1D",
        "colab_type": "code",
        "colab": {
          "base_uri": "https://localhost:8080/",
          "height": 195
        },
        "outputId": "87c3a444-5aef-4ea7-e1b2-b19eea41a8e6"
      },
      "source": [
        "# Se imprimen los últimos cinco registros\n",
        "df.tail()"
      ],
      "execution_count": null,
      "outputs": [
        {
          "output_type": "execute_result",
          "data": {
            "text/html": [
              "<div>\n",
              "<style scoped>\n",
              "    .dataframe tbody tr th:only-of-type {\n",
              "        vertical-align: middle;\n",
              "    }\n",
              "\n",
              "    .dataframe tbody tr th {\n",
              "        vertical-align: top;\n",
              "    }\n",
              "\n",
              "    .dataframe thead th {\n",
              "        text-align: right;\n",
              "    }\n",
              "</style>\n",
              "<table border=\"1\" class=\"dataframe\">\n",
              "  <thead>\n",
              "    <tr style=\"text-align: right;\">\n",
              "      <th></th>\n",
              "      <th>x</th>\n",
              "      <th>y</th>\n",
              "    </tr>\n",
              "  </thead>\n",
              "  <tbody>\n",
              "    <tr>\n",
              "      <th>95</th>\n",
              "      <td>0.553040</td>\n",
              "      <td>0.41482</td>\n",
              "    </tr>\n",
              "    <tr>\n",
              "      <th>96</th>\n",
              "      <td>0.017262</td>\n",
              "      <td>0.91936</td>\n",
              "    </tr>\n",
              "    <tr>\n",
              "      <th>97</th>\n",
              "      <td>0.668360</td>\n",
              "      <td>0.23760</td>\n",
              "    </tr>\n",
              "    <tr>\n",
              "      <th>98</th>\n",
              "      <td>0.853080</td>\n",
              "      <td>0.16880</td>\n",
              "    </tr>\n",
              "    <tr>\n",
              "      <th>99</th>\n",
              "      <td>0.047280</td>\n",
              "      <td>0.94437</td>\n",
              "    </tr>\n",
              "  </tbody>\n",
              "</table>\n",
              "</div>"
            ],
            "text/plain": [
              "           x        y\n",
              "95  0.553040  0.41482\n",
              "96  0.017262  0.91936\n",
              "97  0.668360  0.23760\n",
              "98  0.853080  0.16880\n",
              "99  0.047280  0.94437"
            ]
          },
          "metadata": {
            "tags": []
          },
          "execution_count": 15
        }
      ]
    },
    {
      "cell_type": "code",
      "metadata": {
        "id": "16vupU5eK5N0",
        "colab_type": "code",
        "colab": {
          "base_uri": "https://localhost:8080/",
          "height": 34
        },
        "outputId": "017fc705-c6d6-49f5-b31d-4d4cced78855"
      },
      "source": [
        "# Tamaño del DataFrame\n",
        "print(df.shape)"
      ],
      "execution_count": null,
      "outputs": [
        {
          "output_type": "stream",
          "text": [
            "(100, 2)\n"
          ],
          "name": "stdout"
        }
      ]
    },
    {
      "cell_type": "code",
      "metadata": {
        "id": "fu9-i3tnK7ck",
        "colab_type": "code",
        "colab": {
          "base_uri": "https://localhost:8080/",
          "height": 168
        },
        "outputId": "b1a19719-2d1b-4b97-b3fc-f2528ac501ce"
      },
      "source": [
        "# Información del DataFrame\n",
        "df.info()"
      ],
      "execution_count": null,
      "outputs": [
        {
          "output_type": "stream",
          "text": [
            "<class 'pandas.core.frame.DataFrame'>\n",
            "RangeIndex: 100 entries, 0 to 99\n",
            "Data columns (total 2 columns):\n",
            " #   Column  Non-Null Count  Dtype  \n",
            "---  ------  --------------  -----  \n",
            " 0   x       100 non-null    float64\n",
            " 1   y       100 non-null    float64\n",
            "dtypes: float64(2)\n",
            "memory usage: 1.7 KB\n"
          ],
          "name": "stdout"
        }
      ]
    },
    {
      "cell_type": "code",
      "metadata": {
        "id": "2n2YMOOuK98L",
        "colab_type": "code",
        "colab": {
          "base_uri": "https://localhost:8080/",
          "height": 34
        },
        "outputId": "477eed9a-cbc5-4c1a-fddb-647426238b11"
      },
      "source": [
        "# Mostrar columnas\n",
        "df.columns"
      ],
      "execution_count": null,
      "outputs": [
        {
          "output_type": "execute_result",
          "data": {
            "text/plain": [
              "Index(['x', 'y'], dtype='object')"
            ]
          },
          "metadata": {
            "tags": []
          },
          "execution_count": 19
        }
      ]
    },
    {
      "cell_type": "code",
      "metadata": {
        "id": "Xo86zGuWLAME",
        "colab_type": "code",
        "colab": {
          "base_uri": "https://localhost:8080/",
          "height": 284
        },
        "outputId": "06b76ae8-bea1-483b-9392-883e72148320"
      },
      "source": [
        "# Datos estadísticos de las variables númericas\n",
        "df.describe()"
      ],
      "execution_count": null,
      "outputs": [
        {
          "output_type": "execute_result",
          "data": {
            "text/html": [
              "<div>\n",
              "<style scoped>\n",
              "    .dataframe tbody tr th:only-of-type {\n",
              "        vertical-align: middle;\n",
              "    }\n",
              "\n",
              "    .dataframe tbody tr th {\n",
              "        vertical-align: top;\n",
              "    }\n",
              "\n",
              "    .dataframe thead th {\n",
              "        text-align: right;\n",
              "    }\n",
              "</style>\n",
              "<table border=\"1\" class=\"dataframe\">\n",
              "  <thead>\n",
              "    <tr style=\"text-align: right;\">\n",
              "      <th></th>\n",
              "      <th>x</th>\n",
              "      <th>y</th>\n",
              "    </tr>\n",
              "  </thead>\n",
              "  <tbody>\n",
              "    <tr>\n",
              "      <th>count</th>\n",
              "      <td>100.000000</td>\n",
              "      <td>100.000000</td>\n",
              "    </tr>\n",
              "    <tr>\n",
              "      <th>mean</th>\n",
              "      <td>0.524516</td>\n",
              "      <td>0.469044</td>\n",
              "    </tr>\n",
              "    <tr>\n",
              "      <th>std</th>\n",
              "      <td>0.314705</td>\n",
              "      <td>0.305255</td>\n",
              "    </tr>\n",
              "    <tr>\n",
              "      <th>min</th>\n",
              "      <td>0.000000</td>\n",
              "      <td>0.000000</td>\n",
              "    </tr>\n",
              "    <tr>\n",
              "      <th>25%</th>\n",
              "      <td>0.266275</td>\n",
              "      <td>0.212233</td>\n",
              "    </tr>\n",
              "    <tr>\n",
              "      <th>50%</th>\n",
              "      <td>0.541665</td>\n",
              "      <td>0.462890</td>\n",
              "    </tr>\n",
              "    <tr>\n",
              "      <th>75%</th>\n",
              "      <td>0.819447</td>\n",
              "      <td>0.717045</td>\n",
              "    </tr>\n",
              "    <tr>\n",
              "      <th>max</th>\n",
              "      <td>1.000000</td>\n",
              "      <td>1.000000</td>\n",
              "    </tr>\n",
              "  </tbody>\n",
              "</table>\n",
              "</div>"
            ],
            "text/plain": [
              "                x           y\n",
              "count  100.000000  100.000000\n",
              "mean     0.524516    0.469044\n",
              "std      0.314705    0.305255\n",
              "min      0.000000    0.000000\n",
              "25%      0.266275    0.212233\n",
              "50%      0.541665    0.462890\n",
              "75%      0.819447    0.717045\n",
              "max      1.000000    1.000000"
            ]
          },
          "metadata": {
            "tags": []
          },
          "execution_count": 20
        }
      ]
    },
    {
      "cell_type": "code",
      "metadata": {
        "id": "RWS_fpCPLCao",
        "colab_type": "code",
        "colab": {
          "base_uri": "https://localhost:8080/",
          "height": 1000
        },
        "outputId": "3f779eb0-a894-47d7-f151-3bdbc73480dc"
      },
      "source": [
        "# Crear una matrix de datos\n",
        "df.values"
      ],
      "execution_count": null,
      "outputs": [
        {
          "output_type": "execute_result",
          "data": {
            "text/plain": [
              "array([[0.82202  , 0.1675   ],\n",
              "       [0.95587  , 0.0091221],\n",
              "       [0.87913  , 0.15943  ],\n",
              "       [0.38489  , 0.55851  ],\n",
              "       [0.94356  , 0.040785 ],\n",
              "       [0.42927  , 0.60479  ],\n",
              "       [0.1471   , 0.84797  ],\n",
              "       [0.29858  , 0.67316  ],\n",
              "       [0.68043  , 0.29689  ],\n",
              "       [0.94057  , 0.070909 ],\n",
              "       [0.95428  , 0.075731 ],\n",
              "       [0.59607  , 0.42001  ],\n",
              "       [0.95581  , 0.10373  ],\n",
              "       [0.39546  , 0.55537  ],\n",
              "       [0.022153 , 0.95033  ],\n",
              "       [0.28213  , 0.63034  ],\n",
              "       [0.012802 , 0.98033  ],\n",
              "       [0.86905  , 0.15324  ],\n",
              "       [0.4248   , 0.56525  ],\n",
              "       [0.075402 , 0.84485  ],\n",
              "       [0.12166  , 0.78626  ],\n",
              "       [0.22881  , 0.81876  ],\n",
              "       [0.2093   , 0.72919  ],\n",
              "       [0.87237  , 0.15714  ],\n",
              "       [0.76586  , 0.22224  ],\n",
              "       [0.33447  , 0.64804  ],\n",
              "       [0.37568  , 0.58886  ],\n",
              "       [0.59173  , 0.41899  ],\n",
              "       [0.53029  , 0.45347  ],\n",
              "       [0.32299  , 0.62423  ],\n",
              "       [0.85894  , 0.12609  ],\n",
              "       [0.25315  , 0.72985  ],\n",
              "       [0.94045  , 0.052637 ],\n",
              "       [0.38087  , 0.62111  ],\n",
              "       [0.68244  , 0.32423  ],\n",
              "       [0.26278  , 0.63203  ],\n",
              "       [0.0087067, 0.94196  ],\n",
              "       [0.94731  , 0.046564 ],\n",
              "       [0.52911  , 0.47697  ],\n",
              "       [0.67021  , 0.34624  ],\n",
              "       [0.60476  , 0.4052   ],\n",
              "       [0.75218  , 0.22825  ],\n",
              "       [0.98918  , 0.060676 ],\n",
              "       [0.72832  , 0.23644  ],\n",
              "       [0.86165  , 0.082418 ],\n",
              "       [1.       , 0.014058 ],\n",
              "       [0.76101  , 0.2672   ],\n",
              "       [0.13015  , 0.88528  ],\n",
              "       [0.31554  , 0.68785  ],\n",
              "       [0.0095586, 1.       ],\n",
              "       [0.69425  , 0.30404  ],\n",
              "       [0.96597  , 0.087746 ],\n",
              "       [0.72973  , 0.31158  ],\n",
              "       [0.73766  , 0.25921  ],\n",
              "       [0.15953  , 0.84985  ],\n",
              "       [0.34547  , 0.67934  ],\n",
              "       [0.57094  , 0.47231  ],\n",
              "       [0.45298  , 0.53007  ],\n",
              "       [0.83739  , 0.20279  ],\n",
              "       [0.81859  , 0.21538  ],\n",
              "       [0.31312  , 0.70625  ],\n",
              "       [0.45477  , 0.57549  ],\n",
              "       [0.67308  , 0.31539  ],\n",
              "       [0.59211  , 0.42042  ],\n",
              "       [0.11816  , 0.90129  ],\n",
              "       [0.       , 0.96275  ],\n",
              "       [0.10862  , 0.82668  ],\n",
              "       [0.20958  , 0.79645  ],\n",
              "       [0.44186  , 0.55275  ],\n",
              "       [0.52968  , 0.47555  ],\n",
              "       [0.99851  , 0.       ],\n",
              "       [0.7177   , 0.24552  ],\n",
              "       [0.98788  , 0.027957 ],\n",
              "       [0.03522  , 0.97693  ],\n",
              "       [0.63494  , 0.36687  ],\n",
              "       [0.96764  , 0.023135 ],\n",
              "       [0.25755  , 0.72471  ],\n",
              "       [0.95636  , 0.033671 ],\n",
              "       [0.90784  , 0.04037  ],\n",
              "       [0.18014  , 0.81135  ],\n",
              "       [0.73478  , 0.29635  ],\n",
              "       [0.15979  , 0.82397  ],\n",
              "       [0.088085 , 0.87214  ],\n",
              "       [0.303    , 0.7051   ],\n",
              "       [0.33864  , 0.68953  ],\n",
              "       [0.39026  , 0.61228  ],\n",
              "       [0.27194  , 0.72953  ],\n",
              "       [0.30279  , 0.68969  ],\n",
              "       [0.71866  , 0.2542   ],\n",
              "       [0.95146  , 0.051219 ],\n",
              "       [0.070239 , 0.94956  ],\n",
              "       [0.26744  , 0.71449  ],\n",
              "       [0.59307  , 0.42255  ],\n",
              "       [0.83195  , 0.16145  ],\n",
              "       [0.78435  , 0.2311   ],\n",
              "       [0.55304  , 0.41482  ],\n",
              "       [0.017262 , 0.91936  ],\n",
              "       [0.66836  , 0.2376   ],\n",
              "       [0.85308  , 0.1688   ],\n",
              "       [0.04728  , 0.94437  ]])"
            ]
          },
          "metadata": {
            "tags": []
          },
          "execution_count": 21
        }
      ]
    },
    {
      "cell_type": "code",
      "metadata": {
        "id": "OVVuf8E0LFy5",
        "colab_type": "code",
        "colab": {
          "base_uri": "https://localhost:8080/",
          "height": 195
        },
        "outputId": "687c7109-3ae7-4408-be2e-ce236a2f4994"
      },
      "source": [
        "# Renombrar columnas\n",
        "df = df.rename(columns={'x':'z'})\n",
        "df.head()"
      ],
      "execution_count": null,
      "outputs": [
        {
          "output_type": "execute_result",
          "data": {
            "text/html": [
              "<div>\n",
              "<style scoped>\n",
              "    .dataframe tbody tr th:only-of-type {\n",
              "        vertical-align: middle;\n",
              "    }\n",
              "\n",
              "    .dataframe tbody tr th {\n",
              "        vertical-align: top;\n",
              "    }\n",
              "\n",
              "    .dataframe thead th {\n",
              "        text-align: right;\n",
              "    }\n",
              "</style>\n",
              "<table border=\"1\" class=\"dataframe\">\n",
              "  <thead>\n",
              "    <tr style=\"text-align: right;\">\n",
              "      <th></th>\n",
              "      <th>z</th>\n",
              "      <th>y</th>\n",
              "    </tr>\n",
              "  </thead>\n",
              "  <tbody>\n",
              "    <tr>\n",
              "      <th>0</th>\n",
              "      <td>0.82202</td>\n",
              "      <td>0.167500</td>\n",
              "    </tr>\n",
              "    <tr>\n",
              "      <th>1</th>\n",
              "      <td>0.95587</td>\n",
              "      <td>0.009122</td>\n",
              "    </tr>\n",
              "    <tr>\n",
              "      <th>2</th>\n",
              "      <td>0.87913</td>\n",
              "      <td>0.159430</td>\n",
              "    </tr>\n",
              "    <tr>\n",
              "      <th>3</th>\n",
              "      <td>0.38489</td>\n",
              "      <td>0.558510</td>\n",
              "    </tr>\n",
              "    <tr>\n",
              "      <th>4</th>\n",
              "      <td>0.94356</td>\n",
              "      <td>0.040785</td>\n",
              "    </tr>\n",
              "  </tbody>\n",
              "</table>\n",
              "</div>"
            ],
            "text/plain": [
              "         z         y\n",
              "0  0.82202  0.167500\n",
              "1  0.95587  0.009122\n",
              "2  0.87913  0.159430\n",
              "3  0.38489  0.558510\n",
              "4  0.94356  0.040785"
            ]
          },
          "metadata": {
            "tags": []
          },
          "execution_count": 23
        }
      ]
    },
    {
      "cell_type": "code",
      "metadata": {
        "id": "9PPUvyiVLIeW",
        "colab_type": "code",
        "colab": {
          "base_uri": "https://localhost:8080/",
          "height": 218
        },
        "outputId": "97f0e029-dd57-435e-de8f-e666a7bfa114"
      },
      "source": [
        "# Regresar una columna como Series\n",
        "s1 = df['z']\n",
        "# s2 = df.country\n",
        "print(s1)\n",
        "# print(s2)"
      ],
      "execution_count": null,
      "outputs": [
        {
          "output_type": "stream",
          "text": [
            "0     0.822020\n",
            "1     0.955870\n",
            "2     0.879130\n",
            "3     0.384890\n",
            "4     0.943560\n",
            "        ...   \n",
            "95    0.553040\n",
            "96    0.017262\n",
            "97    0.668360\n",
            "98    0.853080\n",
            "99    0.047280\n",
            "Name: z, Length: 100, dtype: float64\n"
          ],
          "name": "stdout"
        }
      ]
    },
    {
      "cell_type": "code",
      "metadata": {
        "id": "o-C_hZU-LQFP",
        "colab_type": "code",
        "colab": {
          "base_uri": "https://localhost:8080/",
          "height": 118
        },
        "outputId": "72e75aa7-aac7-47a2-c5e5-5e671de184f1"
      },
      "source": [
        "# Regresar una columna como un DataFrame\n",
        "df2 = df[['z']]\n",
        "print(df2.head())"
      ],
      "execution_count": null,
      "outputs": [
        {
          "output_type": "stream",
          "text": [
            "         z\n",
            "0  0.82202\n",
            "1  0.95587\n",
            "2  0.87913\n",
            "3  0.38489\n",
            "4  0.94356\n"
          ],
          "name": "stdout"
        }
      ]
    },
    {
      "cell_type": "code",
      "metadata": {
        "id": "1FWnUMKOLXyK",
        "colab_type": "code",
        "colab": {
          "base_uri": "https://localhost:8080/",
          "height": 206
        },
        "outputId": "09e1e1a2-86d7-43d4-c1bb-76a22a92e174"
      },
      "source": [
        "# Cambiar todos los elementos con cierto valor\n",
        "df2 = df.replace(1952,'one')\n",
        "df2.head()"
      ],
      "execution_count": null,
      "outputs": [
        {
          "output_type": "execute_result",
          "data": {
            "text/html": [
              "<div>\n",
              "<style scoped>\n",
              "    .dataframe tbody tr th:only-of-type {\n",
              "        vertical-align: middle;\n",
              "    }\n",
              "\n",
              "    .dataframe tbody tr th {\n",
              "        vertical-align: top;\n",
              "    }\n",
              "\n",
              "    .dataframe thead th {\n",
              "        text-align: right;\n",
              "    }\n",
              "</style>\n",
              "<table border=\"1\" class=\"dataframe\">\n",
              "  <thead>\n",
              "    <tr style=\"text-align: right;\">\n",
              "      <th></th>\n",
              "      <th>country</th>\n",
              "      <th>year</th>\n",
              "      <th>pop</th>\n",
              "      <th>continent</th>\n",
              "      <th>lifeExp</th>\n",
              "      <th>gdp</th>\n",
              "    </tr>\n",
              "  </thead>\n",
              "  <tbody>\n",
              "    <tr>\n",
              "      <th>0</th>\n",
              "      <td>Afghanistan</td>\n",
              "      <td>one</td>\n",
              "      <td>8425333.0</td>\n",
              "      <td>Asia</td>\n",
              "      <td>28.801</td>\n",
              "      <td>779.445314</td>\n",
              "    </tr>\n",
              "    <tr>\n",
              "      <th>1</th>\n",
              "      <td>Afghanistan</td>\n",
              "      <td>1957</td>\n",
              "      <td>9240934.0</td>\n",
              "      <td>Asia</td>\n",
              "      <td>30.332</td>\n",
              "      <td>820.853030</td>\n",
              "    </tr>\n",
              "    <tr>\n",
              "      <th>2</th>\n",
              "      <td>Afghanistan</td>\n",
              "      <td>1962</td>\n",
              "      <td>10267083.0</td>\n",
              "      <td>Asia</td>\n",
              "      <td>31.997</td>\n",
              "      <td>853.100710</td>\n",
              "    </tr>\n",
              "    <tr>\n",
              "      <th>3</th>\n",
              "      <td>Afghanistan</td>\n",
              "      <td>1967</td>\n",
              "      <td>11537966.0</td>\n",
              "      <td>Asia</td>\n",
              "      <td>34.020</td>\n",
              "      <td>836.197138</td>\n",
              "    </tr>\n",
              "    <tr>\n",
              "      <th>4</th>\n",
              "      <td>Afghanistan</td>\n",
              "      <td>1972</td>\n",
              "      <td>13079460.0</td>\n",
              "      <td>Asia</td>\n",
              "      <td>36.088</td>\n",
              "      <td>739.981106</td>\n",
              "    </tr>\n",
              "  </tbody>\n",
              "</table>\n",
              "</div>"
            ],
            "text/plain": [
              "       country  year         pop continent  lifeExp         gdp\n",
              "0  Afghanistan   one   8425333.0      Asia   28.801  779.445314\n",
              "1  Afghanistan  1957   9240934.0      Asia   30.332  820.853030\n",
              "2  Afghanistan  1962  10267083.0      Asia   31.997  853.100710\n",
              "3  Afghanistan  1967  11537966.0      Asia   34.020  836.197138\n",
              "4  Afghanistan  1972  13079460.0      Asia   36.088  739.981106"
            ]
          },
          "metadata": {
            "tags": []
          },
          "execution_count": 22
        }
      ]
    },
    {
      "cell_type": "code",
      "metadata": {
        "id": "deSuuWM0La0a",
        "colab_type": "code",
        "colab": {
          "base_uri": "https://localhost:8080/",
          "height": 425
        },
        "outputId": "b449de5a-7b4e-40b4-9226-c2bb4b89fd31"
      },
      "source": [
        "# Filtrado por columna\n",
        "df[df.country == 'Mexico']"
      ],
      "execution_count": null,
      "outputs": [
        {
          "output_type": "execute_result",
          "data": {
            "text/html": [
              "<div>\n",
              "<style scoped>\n",
              "    .dataframe tbody tr th:only-of-type {\n",
              "        vertical-align: middle;\n",
              "    }\n",
              "\n",
              "    .dataframe tbody tr th {\n",
              "        vertical-align: top;\n",
              "    }\n",
              "\n",
              "    .dataframe thead th {\n",
              "        text-align: right;\n",
              "    }\n",
              "</style>\n",
              "<table border=\"1\" class=\"dataframe\">\n",
              "  <thead>\n",
              "    <tr style=\"text-align: right;\">\n",
              "      <th></th>\n",
              "      <th>country</th>\n",
              "      <th>year</th>\n",
              "      <th>pop</th>\n",
              "      <th>continent</th>\n",
              "      <th>lifeExp</th>\n",
              "      <th>gdp</th>\n",
              "    </tr>\n",
              "  </thead>\n",
              "  <tbody>\n",
              "    <tr>\n",
              "      <th>984</th>\n",
              "      <td>Mexico</td>\n",
              "      <td>1952</td>\n",
              "      <td>30144317.0</td>\n",
              "      <td>Americas</td>\n",
              "      <td>50.789</td>\n",
              "      <td>3478.125529</td>\n",
              "    </tr>\n",
              "    <tr>\n",
              "      <th>985</th>\n",
              "      <td>Mexico</td>\n",
              "      <td>1957</td>\n",
              "      <td>35015548.0</td>\n",
              "      <td>Americas</td>\n",
              "      <td>55.190</td>\n",
              "      <td>4131.546641</td>\n",
              "    </tr>\n",
              "    <tr>\n",
              "      <th>986</th>\n",
              "      <td>Mexico</td>\n",
              "      <td>1962</td>\n",
              "      <td>41121485.0</td>\n",
              "      <td>Americas</td>\n",
              "      <td>58.299</td>\n",
              "      <td>4581.609385</td>\n",
              "    </tr>\n",
              "    <tr>\n",
              "      <th>987</th>\n",
              "      <td>Mexico</td>\n",
              "      <td>1967</td>\n",
              "      <td>47995559.0</td>\n",
              "      <td>Americas</td>\n",
              "      <td>60.110</td>\n",
              "      <td>5754.733883</td>\n",
              "    </tr>\n",
              "    <tr>\n",
              "      <th>988</th>\n",
              "      <td>Mexico</td>\n",
              "      <td>1972</td>\n",
              "      <td>55984294.0</td>\n",
              "      <td>Americas</td>\n",
              "      <td>62.361</td>\n",
              "      <td>6809.406690</td>\n",
              "    </tr>\n",
              "    <tr>\n",
              "      <th>989</th>\n",
              "      <td>Mexico</td>\n",
              "      <td>1977</td>\n",
              "      <td>63759976.0</td>\n",
              "      <td>Americas</td>\n",
              "      <td>65.032</td>\n",
              "      <td>7674.929108</td>\n",
              "    </tr>\n",
              "    <tr>\n",
              "      <th>990</th>\n",
              "      <td>Mexico</td>\n",
              "      <td>1982</td>\n",
              "      <td>71640904.0</td>\n",
              "      <td>Americas</td>\n",
              "      <td>67.405</td>\n",
              "      <td>9611.147541</td>\n",
              "    </tr>\n",
              "    <tr>\n",
              "      <th>991</th>\n",
              "      <td>Mexico</td>\n",
              "      <td>1987</td>\n",
              "      <td>80122492.0</td>\n",
              "      <td>Americas</td>\n",
              "      <td>69.498</td>\n",
              "      <td>8688.156003</td>\n",
              "    </tr>\n",
              "    <tr>\n",
              "      <th>992</th>\n",
              "      <td>Mexico</td>\n",
              "      <td>1992</td>\n",
              "      <td>88111030.0</td>\n",
              "      <td>Americas</td>\n",
              "      <td>71.455</td>\n",
              "      <td>9472.384295</td>\n",
              "    </tr>\n",
              "    <tr>\n",
              "      <th>993</th>\n",
              "      <td>Mexico</td>\n",
              "      <td>1997</td>\n",
              "      <td>95895146.0</td>\n",
              "      <td>Americas</td>\n",
              "      <td>73.670</td>\n",
              "      <td>9767.297530</td>\n",
              "    </tr>\n",
              "    <tr>\n",
              "      <th>994</th>\n",
              "      <td>Mexico</td>\n",
              "      <td>2002</td>\n",
              "      <td>102479927.0</td>\n",
              "      <td>Americas</td>\n",
              "      <td>74.902</td>\n",
              "      <td>10742.440530</td>\n",
              "    </tr>\n",
              "    <tr>\n",
              "      <th>995</th>\n",
              "      <td>Mexico</td>\n",
              "      <td>2007</td>\n",
              "      <td>108700891.0</td>\n",
              "      <td>Americas</td>\n",
              "      <td>76.195</td>\n",
              "      <td>11977.574960</td>\n",
              "    </tr>\n",
              "  </tbody>\n",
              "</table>\n",
              "</div>"
            ],
            "text/plain": [
              "    country  year          pop continent  lifeExp           gdp\n",
              "984  Mexico  1952   30144317.0  Americas   50.789   3478.125529\n",
              "985  Mexico  1957   35015548.0  Americas   55.190   4131.546641\n",
              "986  Mexico  1962   41121485.0  Americas   58.299   4581.609385\n",
              "987  Mexico  1967   47995559.0  Americas   60.110   5754.733883\n",
              "988  Mexico  1972   55984294.0  Americas   62.361   6809.406690\n",
              "989  Mexico  1977   63759976.0  Americas   65.032   7674.929108\n",
              "990  Mexico  1982   71640904.0  Americas   67.405   9611.147541\n",
              "991  Mexico  1987   80122492.0  Americas   69.498   8688.156003\n",
              "992  Mexico  1992   88111030.0  Americas   71.455   9472.384295\n",
              "993  Mexico  1997   95895146.0  Americas   73.670   9767.297530\n",
              "994  Mexico  2002  102479927.0  Americas   74.902  10742.440530\n",
              "995  Mexico  2007  108700891.0  Americas   76.195  11977.574960"
            ]
          },
          "metadata": {
            "tags": []
          },
          "execution_count": 23
        }
      ]
    },
    {
      "cell_type": "code",
      "metadata": {
        "id": "jKKAfkOxLfB8",
        "colab_type": "code",
        "colab": {
          "base_uri": "https://localhost:8080/",
          "height": 150
        },
        "outputId": "3a4b8b81-c856-46c6-cfd4-cbb8e7b37564"
      },
      "source": [
        "#Filtrado con reindexado automático\n",
        "df_mex = df[df.country == 'Mexico'][df.year >= 1977][df.lifeExp < 70]\n",
        "print(df_mex)"
      ],
      "execution_count": null,
      "outputs": [
        {
          "output_type": "stream",
          "text": [
            "    country  year         pop continent  lifeExp          gdp\n",
            "989  Mexico  1977  63759976.0  Americas   65.032  7674.929108\n",
            "990  Mexico  1982  71640904.0  Americas   67.405  9611.147541\n",
            "991  Mexico  1987  80122492.0  Americas   69.498  8688.156003\n"
          ],
          "name": "stdout"
        },
        {
          "output_type": "stream",
          "text": [
            "/usr/local/lib/python3.6/dist-packages/ipykernel_launcher.py:2: UserWarning: Boolean Series key will be reindexed to match DataFrame index.\n",
            "  \n"
          ],
          "name": "stderr"
        }
      ]
    },
    {
      "cell_type": "code",
      "metadata": {
        "id": "egSKuKayLmNg",
        "colab_type": "code",
        "colab": {
          "base_uri": "https://localhost:8080/",
          "height": 92
        },
        "outputId": "3d121c2a-60c8-4512-80e7-71d7ebba983a"
      },
      "source": [
        "df_mex = df_mex.reset_index()\n",
        "df_mex = df_mex.drop('index', axis=1)\n",
        "print(df_mex)"
      ],
      "execution_count": null,
      "outputs": [
        {
          "output_type": "stream",
          "text": [
            "  country  year         pop continent  lifeExp          gdp\n",
            "0  Mexico  1977  63759976.0  Americas   65.032  7674.929108\n",
            "1  Mexico  1982  71640904.0  Americas   67.405  9611.147541\n",
            "2  Mexico  1987  80122492.0  Americas   69.498  8688.156003\n"
          ],
          "name": "stdout"
        }
      ]
    },
    {
      "cell_type": "code",
      "metadata": {
        "id": "tbG41bChLrOt",
        "colab_type": "code",
        "colab": {
          "base_uri": "https://localhost:8080/",
          "height": 331
        },
        "outputId": "d069b470-5ca0-4cf6-d139-d1b63c2e4415"
      },
      "source": [
        "# Histograma de las variables numericas\n",
        "df.hist()"
      ],
      "execution_count": null,
      "outputs": [
        {
          "output_type": "execute_result",
          "data": {
            "text/plain": [
              "array([[<matplotlib.axes._subplots.AxesSubplot object at 0x7f7d56dbedd8>,\n",
              "        <matplotlib.axes._subplots.AxesSubplot object at 0x7f7d56d9f128>]],\n",
              "      dtype=object)"
            ]
          },
          "metadata": {
            "tags": []
          },
          "execution_count": 32
        },
        {
          "output_type": "display_data",
          "data": {
            "image/png": "[encoded data removed]",
            "text/plain": [
              "<Figure size 432x288 with 2 Axes>"
            ]
          },
          "metadata": {
            "tags": [],
            "needs_background": "light"
          }
        }
      ]
    },
    {
      "cell_type": "code",
      "metadata": {
        "id": "jLm98DlSL2LS",
        "colab_type": "code",
        "colab": {
          "base_uri": "https://localhost:8080/",
          "height": 372
        },
        "outputId": "7ff1160e-ecdc-4c87-da3a-7ad86d0cbcaa"
      },
      "source": [
        "pd.plotting.scatter_matrix(df)"
      ],
      "execution_count": null,
      "outputs": [
        {
          "output_type": "execute_result",
          "data": {
            "text/plain": [
              "array([[<matplotlib.axes._subplots.AxesSubplot object at 0x7f7d56c73588>,\n",
              "        <matplotlib.axes._subplots.AxesSubplot object at 0x7f7d567f76a0>],\n",
              "       [<matplotlib.axes._subplots.AxesSubplot object at 0x7f7d567a9908>,\n",
              "        <matplotlib.axes._subplots.AxesSubplot object at 0x7f7d567d7b70>]],\n",
              "      dtype=object)"
            ]
          },
          "metadata": {
            "tags": []
          },
          "execution_count": 34
        },
        {
          "output_type": "display_data",
          "data": {
            "image/png": "[encoded data removed]",
            "text/plain": [
              "<Figure size 432x288 with 4 Axes>"
            ]
          },
          "metadata": {
            "tags": [],
            "needs_background": "light"
          }
        }
      ]
    },
    {
      "cell_type": "code",
      "metadata": {
        "id": "vagODmtHMKFn",
        "colab_type": "code",
        "colab": {
          "base_uri": "https://localhost:8080/",
          "height": 372
        },
        "outputId": "42e5f92b-b552-4b3b-939f-ce2ff8949026"
      },
      "source": [
        "# Grafica de México\n",
        "pd.plotting.scatter_matrix(df)"
      ],
      "execution_count": null,
      "outputs": [
        {
          "output_type": "execute_result",
          "data": {
            "text/plain": [
              "array([[<matplotlib.axes._subplots.AxesSubplot object at 0x7f7d48f0fe10>,\n",
              "        <matplotlib.axes._subplots.AxesSubplot object at 0x7f7d48c694e0>],\n",
              "       [<matplotlib.axes._subplots.AxesSubplot object at 0x7f7d56ef2358>,\n",
              "        <matplotlib.axes._subplots.AxesSubplot object at 0x7f7d48c27f60>]],\n",
              "      dtype=object)"
            ]
          },
          "metadata": {
            "tags": []
          },
          "execution_count": 39
        },
        {
          "output_type": "display_data",
          "data": {
            "image/png": "[encoded data removed]",
            "text/plain": [
              "<Figure size 432x288 with 4 Axes>"
            ]
          },
          "metadata": {
            "tags": [],
            "needs_background": "light"
          }
        }
      ]
    },
    {
      "cell_type": "markdown",
      "metadata": {
        "id": "J6-KqaouMQmz",
        "colab_type": "text"
      },
      "source": [
        "## Regresión lineal y KNN"
      ]
    },
    {
      "cell_type": "markdown",
      "metadata": {
        "id": "TSyb8_K1NRJ-",
        "colab_type": "text"
      },
      "source": [
        "En está sección vamos a hacer una regresión lineal simple de la esperanza de vida en México y también usaremos KNN"
      ]
    },
    {
      "cell_type": "code",
      "metadata": {
        "id": "ECrMBpeZMWmH",
        "colab_type": "code",
        "colab": {
          "base_uri": "https://localhost:8080/",
          "height": 296
        },
        "outputId": "d8d64c1a-4685-48a7-c9ec-56305bcceca1"
      },
      "source": [
        "from sklearn.linear_model import LinearRegression\n",
        "from sklearn.neighbors import KNeighborsRegressor\n",
        "df.plot.scatter(x='z',y='y')"
      ],
      "execution_count": null,
      "outputs": [
        {
          "output_type": "execute_result",
          "data": {
            "text/plain": [
              "<matplotlib.axes._subplots.AxesSubplot at 0x7f7d48abb978>"
            ]
          },
          "metadata": {
            "tags": []
          },
          "execution_count": 41
        },
        {
          "output_type": "display_data",
          "data": {
            "image/png": "[encoded data removed]",
            "text/plain": [
              "<Figure size 432x288 with 1 Axes>"
            ]
          },
          "metadata": {
            "tags": [],
            "needs_background": "light"
          }
        }
      ]
    },
    {
      "cell_type": "markdown",
      "metadata": {
        "id": "BM-1GGX-NgWY",
        "colab_type": "text"
      },
      "source": [
        "Para este ejemplo la variable 'year' será nuestra variable independiente y la variable 'lifeExp' sera nuestra\n",
        "variable dependiente."
      ]
    },
    {
      "cell_type": "code",
      "metadata": {
        "id": "UCErA5MFNgFK",
        "colab_type": "code",
        "colab": {}
      },
      "source": [
        "x = np.asarray(df[['z']])\n",
        "y = np.asarray(df[['y']])"
      ],
      "execution_count": null,
      "outputs": []
    },
    {
      "cell_type": "markdown",
      "metadata": {
        "id": "LNlxwzGONo4r",
        "colab_type": "text"
      },
      "source": [
        "Ahora instanciaremos el modelo lineal y entrenaremos de forma supervisada"
      ]
    },
    {
      "cell_type": "code",
      "metadata": {
        "id": "YjqHFWI_NvK9",
        "colab_type": "code",
        "colab": {
          "base_uri": "https://localhost:8080/",
          "height": 282
        },
        "outputId": "c9baa810-54fe-4ace-9afa-a0ac58c5eab5"
      },
      "source": [
        "model = LinearRegression()\n",
        "model.fit(x,y)\n",
        "y_pred = model.predict(x)\n",
        "plt.scatter(x,y)\n",
        "plt.plot(x,y_pred,'--r')"
      ],
      "execution_count": null,
      "outputs": [
        {
          "output_type": "execute_result",
          "data": {
            "text/plain": [
              "[<matplotlib.lines.Line2D at 0x7f7d48b66c50>]"
            ]
          },
          "metadata": {
            "tags": []
          },
          "execution_count": 44
        },
        {
          "output_type": "display_data",
          "data": {
            "image/png": "[encoded data removed]",
            "text/plain": [
              "<Figure size 432x288 with 1 Axes>"
            ]
          },
          "metadata": {
            "tags": [],
            "needs_background": "light"
          }
        }
      ]
    },
    {
      "cell_type": "markdown",
      "metadata": {
        "id": "GzrzWC0XN4eA",
        "colab_type": "text"
      },
      "source": [
        "Con el modelo ya entrenado podemos hacer predicciones con él!!"
      ]
    },
    {
      "cell_type": "code",
      "metadata": {
        "id": "Y5t6EM7wN91b",
        "colab_type": "code",
        "colab": {
          "base_uri": "https://localhost:8080/",
          "height": 34
        },
        "outputId": "7e8ee814-804d-4172-b2ff-6c2e749842b2"
      },
      "source": [
        "model.predict([[1.001]])"
      ],
      "execution_count": null,
      "outputs": [
        {
          "output_type": "execute_result",
          "data": {
            "text/plain": [
              "array([[0.00941679]])"
            ]
          },
          "metadata": {
            "tags": []
          },
          "execution_count": 47
        }
      ]
    },
    {
      "cell_type": "markdown",
      "metadata": {
        "id": "y5-sPpz3OH4p",
        "colab_type": "text"
      },
      "source": [
        "Hagamos lo mismo pero con el modelo KNN\n"
      ]
    },
    {
      "cell_type": "code",
      "metadata": {
        "id": "l-WYpoi1OLOT",
        "colab_type": "code",
        "colab": {
          "base_uri": "https://localhost:8080/",
          "height": 282
        },
        "outputId": "2095d258-a956-4ace-f586-b6c365ef0379"
      },
      "source": [
        "knn = KNeighborsRegressor(n_neighbors=3)\n",
        "knn.fit(x,y)\n",
        "y_pred = knn.predict(x)\n",
        "plt.scatter(x,y)\n",
        "plt.plot(x,y_pred,'--r')\n",
        "knn.predict([[2020]])"
      ],
      "execution_count": null,
      "outputs": [
        {
          "output_type": "execute_result",
          "data": {
            "text/plain": [
              "array([[0.02491133]])"
            ]
          },
          "metadata": {
            "tags": []
          },
          "execution_count": 48
        },
        {
          "output_type": "display_data",
          "data": {
            "image/png": "[encoded data removed]",
            "text/plain": [
              "<Figure size 432x288 with 1 Axes>"
            ]
          },
          "metadata": {
            "tags": [],
            "needs_background": "light"
          }
        }
      ]
    },
    {
      "cell_type": "markdown",
      "metadata": {
        "id": "hTLaDa93OiAL",
        "colab_type": "text"
      },
      "source": [
        "## Métricas en el Problema de Regresión"
      ]
    },
    {
      "cell_type": "code",
      "metadata": {
        "id": "UMelE7rVOrIj",
        "colab_type": "code",
        "colab": {
          "base_uri": "https://localhost:8080/",
          "height": 134
        },
        "outputId": "57755121-ec5f-4b26-a88f-2f7973a1aa1d"
      },
      "source": [
        "import sklearn.metrics as m \n",
        "print(m.mean_absolute_error(y,y_pred))\n",
        "print(m.max_error(y,y_pred))\n",
        "print(m.mean_squared_error(y,y_pred))\n",
        "print(m.mean_squared_log_error(y,y_pred))\n",
        "print(m.median_absolute_error(y,y_pred))\n",
        "print(m.explained_variance_score(y,y_pred))\n",
        "print(m.r2_score(y,y_pred))"
      ],
      "execution_count": null,
      "outputs": [
        {
          "output_type": "stream",
          "text": [
            "0.02249122566666666\n",
            "0.0713499999999998\n",
            "0.0007988592624731885\n",
            "0.0003927518521024582\n",
            "0.017015000000000002\n",
            "0.9913401940339958\n",
            "0.9913401864020934\n"
          ],
          "name": "stdout"
        }
      ]
    },
    {
      "cell_type": "code",
      "metadata": {
        "id": "qUx_AoRMPXQI",
        "colab_type": "code",
        "colab": {
          "base_uri": "https://localhost:8080/",
          "height": 50
        },
        "outputId": "131bb141-9ffa-4d5b-d445-b04ef20edd62"
      },
      "source": [
        "linear_score = model.score(x,y)\n",
        "knn_score = knn.score(x,y)\n",
        "print('Lineal Approximation: ', linear_score)\n",
        "print('KNN Approximation: ', knn_score)"
      ],
      "execution_count": null,
      "outputs": [
        {
          "output_type": "stream",
          "text": [
            "Lineal Approximation:  0.9890019087694607\n",
            "KNN Approximation:  0.9913401864020935\n"
          ],
          "name": "stdout"
        }
      ]
    }
  ]
}